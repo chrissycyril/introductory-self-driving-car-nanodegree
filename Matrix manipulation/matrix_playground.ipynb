{
 "cells": [
  {
   "cell_type": "code",
   "execution_count": 1,
   "metadata": {},
   "outputs": [],
   "source": [
    "# Run this cell but don't modify it.\n",
    "\n",
    "%load_ext autoreload\n",
    "%autoreload 2\n",
    "%reload_ext autoreload\n",
    "from matrix import Matrix, zeroes, identity"
   ]
  },
  {
   "cell_type": "code",
   "execution_count": null,
   "metadata": {},
   "outputs": [],
   "source": [
    "# some functionality already exists... here's a demo\n",
    "\n",
    "m1 = Matrix([\n",
    "    [1, 2],\n",
    "    [3, 4]\n",
    "])\n",
    "\n",
    "m2 = Matrix([\n",
    "    [2, 5],\n",
    "    [6, 1]\n",
    "])\n",
    "\n",
    "print(\"m1 is\")\n",
    "print(m1)\n",
    "\n",
    "print(\"m2 is\")\n",
    "print(m2)\n",
    "\n",
    "print(\"we've also provided you with a function called zeros\")\n",
    "print(\"here's what happens when you call zeros(4,2)\")\n",
    "print(zeroes(4,2))\n",
    "\n",
    "print(\"we've also provided you with a function called identity\")\n",
    "print(\"here's identity(3)\")\n",
    "print(identity(3))\n",
    "\n",
    "print(\"but not everything works yet!\")\n",
    "print(\"for example, matrix addition...\")\n",
    "print(\"run the cell below to see what happens when we try...\")"
   ]
  },
  {
   "cell_type": "code",
   "execution_count": 4,
   "metadata": {},
   "outputs": [
    {
     "name": "stdout",
     "output_type": "stream",
     "text": [
      "m1 + m2 is\n",
      "3  7 \n",
      "9  5 \n",
      "\n"
     ]
    }
   ],
   "source": [
    "m1 = Matrix([\n",
    "    [1, 2],\n",
    "    [3, 4]\n",
    "])\n",
    "\n",
    "m2 = Matrix([\n",
    "    [2, 5],\n",
    "    [6, 1]\n",
    "])\n",
    "\n",
    "m3 = m1 + m2\n",
    "print(\"m1 + m2 is\")\n",
    "print(m3)"
   ]
  },
  {
   "cell_type": "code",
   "execution_count": 14,
   "metadata": {
    "scrolled": true
   },
   "outputs": [
    {
     "name": "stdout",
     "output_type": "stream",
     "text": [
      "Congratulations! All tests pass. Your Matrix class is working as expected.\n"
     ]
    }
   ],
   "source": [
    "# Try running this code. You should get an assertion error. \n",
    "# You will continue to get assertion errors until all the \n",
    "# methods in matrix.py are correctly implemented.\n",
    "\n",
    "# You can open matrix.py by selecting File > Open... \n",
    "# and then selecting matrix.py\n",
    "\n",
    "import test\n",
    "import matrix as m\n",
    "\n",
    "def test():\n",
    "    I2 = m.Matrix([\n",
    "        [1, 0],\n",
    "        [0, 1]\n",
    "        ])\n",
    "    I2_neg = m.Matrix([\n",
    "        [-1, 0],\n",
    "        [0, -1]\n",
    "        ])\n",
    "\n",
    "    zero = m.Matrix([\n",
    "        [0,0],\n",
    "        [0,0]\n",
    "        ])\n",
    "\n",
    "    m1 = m.Matrix([\n",
    "        [1,2,3],\n",
    "        [4,5,6]\n",
    "        ])\n",
    "\n",
    "    m2 = m.Matrix([\n",
    "        [7,-2],\n",
    "        [-3,-5],\n",
    "        [4,1]\n",
    "        ])\n",
    "\n",
    "    m1_x_m2 = m.Matrix([\n",
    "         [ 13,  -9],\n",
    "         [ 37, -27]])\n",
    "\n",
    "    m2_x_m1 = m.Matrix([\n",
    "        [ -1,   4,   9],\n",
    "        [-23, -31, -39],\n",
    "        [  8,  13,  18]])\n",
    "\n",
    "    m1_m2_inv = m.Matrix([\n",
    "        [1.5, -0.5],\n",
    "        [2.0555556, -0.722222222]\n",
    "        ])\n",
    "\n",
    "    top_ones = m.Matrix([\n",
    "        [1,1],\n",
    "        [0,0],\n",
    "        ])\n",
    "\n",
    "    left_ones = m.Matrix([\n",
    "        [1,0],\n",
    "        [1,0]\n",
    "       ])\n",
    "    \n",
    "    \n",
    "    \n",
    "    #temp = m.Matrix([[5.035078125]])\n",
    "    #print (m1_x_m2)\n",
    "    #print (m1_x_m2.determinant())\n",
    "    #print (m1_x_m2.inverse())\n",
    "    #print (temp)\n",
    "    #print (temp.determinant())\n",
    "    #print (1/5.035078125)\n",
    "    #print (temp.inverse())\n",
    "    assert equal(-I2, I2_neg)\n",
    "    assert equal(I2 + I2_neg, zero)\n",
    "    assert equal(m1 * m2, m1_x_m2)\n",
    "    assert equal(m2 * m1, m2_x_m1)\n",
    "    assert equal(m1_x_m2.inverse(), m1_m2_inv)\n",
    "    assert equal(I2.inverse(), I2)\n",
    "    assert equal(top_ones.T(), left_ones)\n",
    "    assert equal(left_ones.T(), top_ones)\n",
    "    assert equal(top_ones - left_ones.T(), m.zeroes(2,2))\n",
    "    assert (4*m.identity(5)).trace() == 20 \n",
    "\n",
    "    print(\"Congratulations! All tests pass. Your Matrix class is working as expected.\")\n",
    "\n",
    "def equal(m1, m2):\n",
    "    if len(m1.g) != len(m2.g): return False\n",
    "    if len(m1.g[0]) != len(m2.g[0]): return False\n",
    "    for r1, r2 in zip(m1.g, m2.g):\n",
    "        for v1, v2 in zip(r1, r2):\n",
    "            if abs(v1 - v2) > 0.0001:\n",
    "                return False\n",
    "    return True\n",
    "\n",
    "test()\n"
   ]
  },
  {
   "cell_type": "code",
   "execution_count": 11,
   "metadata": {},
   "outputs": [],
   "source": [
    "# open matrix.py (File > Open...) and start\n",
    "# implementing matrix methods! \n",
    "\n",
    "# when your code passes all the tests you can submit by \n",
    "# pressing the SUBMIT button in the lower right corner \n",
    "# of this page."
   ]
  },
  {
   "cell_type": "code",
   "execution_count": null,
   "metadata": {},
   "outputs": [],
   "source": []
  }
 ],
 "metadata": {
  "kernelspec": {
   "display_name": "Python 3",
   "language": "python",
   "name": "python3"
  },
  "language_info": {
   "codemirror_mode": {
    "name": "ipython",
    "version": 3
   },
   "file_extension": ".py",
   "mimetype": "text/x-python",
   "name": "python",
   "nbconvert_exporter": "python",
   "pygments_lexer": "ipython3",
   "version": "3.6.3"
  }
 },
 "nbformat": 4,
 "nbformat_minor": 2
}
